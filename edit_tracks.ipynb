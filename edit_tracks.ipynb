{
 "cells": [
  {
   "cell_type": "code",
   "execution_count": 36,
   "source": [
    "import pandas as pd"
   ],
   "outputs": [],
   "metadata": {}
  },
  {
   "cell_type": "code",
   "execution_count": 37,
   "source": [
    "df = pd.read_csv(\"data/tracks_edited.csv\")"
   ],
   "outputs": [],
   "metadata": {}
  },
  {
   "cell_type": "code",
   "execution_count": 38,
   "source": [
    "df_morethantwo = df[df[\"artists\"].str.contains(\",\")]"
   ],
   "outputs": [],
   "metadata": {}
  },
  {
   "cell_type": "code",
   "execution_count": 39,
   "source": [
    "df_twoartist = df[df[\"artists\"].str.count(\",\") == 1]"
   ],
   "outputs": [],
   "metadata": {}
  },
  {
   "cell_type": "code",
   "execution_count": 40,
   "source": [
    "df_twoartist = df_twoartist.reset_index()\n",
    "df_twoartist = df_twoartist.iloc[:, 2:]\n",
    "df_twoartist\n",
    "df_twoartist.to_csv(\"tracks_twoartists.csv\")"
   ],
   "outputs": [
    {
     "output_type": "execute_result",
     "data": {
      "text/plain": [
       "                                                     name  \\\n",
       "0                           Disillusion - Blue States Mix   \n",
       "1                           Disillusion - Black Lodge Mix   \n",
       "2                                        Don't You Think?   \n",
       "3       Piano Sonata No. 2 in B-Flat Minor, Op. 35 \"Fu...   \n",
       "4       Piano Sonata No. 2 in B-Flat Minor, Op. 35 \"Fu...   \n",
       "...                                                   ...   \n",
       "147566                                 LA NOCHE DE ANOCHE   \n",
       "147567                                             DÁKITI   \n",
       "147568                                         SORRY PAPI   \n",
       "147569                                             Hitman   \n",
       "147570       Cold - DeeTown Remix featuring Miss Eighty 6   \n",
       "\n",
       "                                                  artists  energy  \n",
       "0                      ['Badly Drawn Boy', 'Blue States']  0.7620  \n",
       "1                      ['Badly Drawn Boy', 'Black Lodge']  0.9050  \n",
       "2                     ['Natalie Imbruglia', 'Mark Plati']  0.8760  \n",
       "3                ['Frédéric Chopin', 'Vladimir Horowitz']  0.1680  \n",
       "4                ['Frédéric Chopin', 'Vladimir Horowitz']  0.0381  \n",
       "...                                                   ...     ...  \n",
       "147566                           ['Bad Bunny', 'ROSALÍA']  0.6180  \n",
       "147567                       ['Bad Bunny', 'Jhay Cortez']  0.5730  \n",
       "147568                              ['Bad Bunny', 'ABRA']  0.5610  \n",
       "147569                           ['Kelly Rowland', 'NFL']  0.8770  \n",
       "147570  ['Crossfade', 'Ali \\x93Dee\\x94 Theodore for De...  0.8290  \n",
       "\n",
       "[147571 rows x 3 columns]"
      ],
      "text/html": [
       "<div>\n",
       "<style scoped>\n",
       "    .dataframe tbody tr th:only-of-type {\n",
       "        vertical-align: middle;\n",
       "    }\n",
       "\n",
       "    .dataframe tbody tr th {\n",
       "        vertical-align: top;\n",
       "    }\n",
       "\n",
       "    .dataframe thead th {\n",
       "        text-align: right;\n",
       "    }\n",
       "</style>\n",
       "<table border=\"1\" class=\"dataframe\">\n",
       "  <thead>\n",
       "    <tr style=\"text-align: right;\">\n",
       "      <th></th>\n",
       "      <th>name</th>\n",
       "      <th>artists</th>\n",
       "      <th>energy</th>\n",
       "    </tr>\n",
       "  </thead>\n",
       "  <tbody>\n",
       "    <tr>\n",
       "      <th>0</th>\n",
       "      <td>Disillusion - Blue States Mix</td>\n",
       "      <td>['Badly Drawn Boy', 'Blue States']</td>\n",
       "      <td>0.7620</td>\n",
       "    </tr>\n",
       "    <tr>\n",
       "      <th>1</th>\n",
       "      <td>Disillusion - Black Lodge Mix</td>\n",
       "      <td>['Badly Drawn Boy', 'Black Lodge']</td>\n",
       "      <td>0.9050</td>\n",
       "    </tr>\n",
       "    <tr>\n",
       "      <th>2</th>\n",
       "      <td>Don't You Think?</td>\n",
       "      <td>['Natalie Imbruglia', 'Mark Plati']</td>\n",
       "      <td>0.8760</td>\n",
       "    </tr>\n",
       "    <tr>\n",
       "      <th>3</th>\n",
       "      <td>Piano Sonata No. 2 in B-Flat Minor, Op. 35 \"Fu...</td>\n",
       "      <td>['Frédéric Chopin', 'Vladimir Horowitz']</td>\n",
       "      <td>0.1680</td>\n",
       "    </tr>\n",
       "    <tr>\n",
       "      <th>4</th>\n",
       "      <td>Piano Sonata No. 2 in B-Flat Minor, Op. 35 \"Fu...</td>\n",
       "      <td>['Frédéric Chopin', 'Vladimir Horowitz']</td>\n",
       "      <td>0.0381</td>\n",
       "    </tr>\n",
       "    <tr>\n",
       "      <th>...</th>\n",
       "      <td>...</td>\n",
       "      <td>...</td>\n",
       "      <td>...</td>\n",
       "    </tr>\n",
       "    <tr>\n",
       "      <th>147566</th>\n",
       "      <td>LA NOCHE DE ANOCHE</td>\n",
       "      <td>['Bad Bunny', 'ROSALÍA']</td>\n",
       "      <td>0.6180</td>\n",
       "    </tr>\n",
       "    <tr>\n",
       "      <th>147567</th>\n",
       "      <td>DÁKITI</td>\n",
       "      <td>['Bad Bunny', 'Jhay Cortez']</td>\n",
       "      <td>0.5730</td>\n",
       "    </tr>\n",
       "    <tr>\n",
       "      <th>147568</th>\n",
       "      <td>SORRY PAPI</td>\n",
       "      <td>['Bad Bunny', 'ABRA']</td>\n",
       "      <td>0.5610</td>\n",
       "    </tr>\n",
       "    <tr>\n",
       "      <th>147569</th>\n",
       "      <td>Hitman</td>\n",
       "      <td>['Kelly Rowland', 'NFL']</td>\n",
       "      <td>0.8770</td>\n",
       "    </tr>\n",
       "    <tr>\n",
       "      <th>147570</th>\n",
       "      <td>Cold - DeeTown Remix featuring Miss Eighty 6</td>\n",
       "      <td>['Crossfade', 'Ali \\x93Dee\\x94 Theodore for De...</td>\n",
       "      <td>0.8290</td>\n",
       "    </tr>\n",
       "  </tbody>\n",
       "</table>\n",
       "<p>147571 rows × 3 columns</p>\n",
       "</div>"
      ]
     },
     "metadata": {},
     "execution_count": 40
    }
   ],
   "metadata": {}
  },
  {
   "cell_type": "code",
   "execution_count": null,
   "source": [],
   "outputs": [],
   "metadata": {}
  }
 ],
 "metadata": {
  "orig_nbformat": 4,
  "language_info": {
   "name": "python",
   "version": "3.8.8",
   "mimetype": "text/x-python",
   "codemirror_mode": {
    "name": "ipython",
    "version": 3
   },
   "pygments_lexer": "ipython3",
   "nbconvert_exporter": "python",
   "file_extension": ".py"
  },
  "kernelspec": {
   "name": "python3",
   "display_name": "Python 3.8.8 64-bit ('base': conda)"
  },
  "interpreter": {
   "hash": "dca0ade3e726a953b501b15e8e990130d2b7799f14cfd9f4271676035ebe5511"
  }
 },
 "nbformat": 4,
 "nbformat_minor": 2
}