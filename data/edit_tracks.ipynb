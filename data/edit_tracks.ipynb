{
 "cells": [
  {
   "cell_type": "code",
<<<<<<< HEAD
   "execution_count": 106,
=======
   "execution_count": 9,
   "metadata": {},
   "outputs": [],
>>>>>>> a9e42091759023c036c1532723d81839e687edf2
   "source": [
    "import pandas as pd"
   ]
  },
  {
   "cell_type": "code",
<<<<<<< HEAD
   "execution_count": 107,
   "source": [
    "df = pd.read_csv(\"../data/tracks_features.csv\")\n",
    "df = df[(df.year >= 2010)]\n",
    "df = df[df.explicit == False]\n",
    "df = df[[\"name\", \"artists\", \"energy\", \"year\"]]\n",
    "df"
   ],
=======
   "execution_count": 10,
   "metadata": {},
>>>>>>> a9e42091759023c036c1532723d81839e687edf2
   "outputs": [
    {
     "data": {
<<<<<<< HEAD
      "text/plain": [
       "Empty DataFrame\n",
       "Columns: [name, artists, energy, year]\n",
       "Index: []"
      ],
=======
>>>>>>> a9e42091759023c036c1532723d81839e687edf2
      "text/html": [
       "<div>\n",
       "<style scoped>\n",
       "    .dataframe tbody tr th:only-of-type {\n",
       "        vertical-align: middle;\n",
       "    }\n",
       "\n",
       "    .dataframe tbody tr th {\n",
       "        vertical-align: top;\n",
       "    }\n",
       "\n",
       "    .dataframe thead th {\n",
       "        text-align: right;\n",
       "    }\n",
       "</style>\n",
       "<table border=\"1\" class=\"dataframe\">\n",
       "  <thead>\n",
       "    <tr style=\"text-align: right;\">\n",
       "      <th></th>\n",
       "      <th>name</th>\n",
       "      <th>artists</th>\n",
       "      <th>energy</th>\n",
       "      <th>year</th>\n",
       "    </tr>\n",
       "  </thead>\n",
       "  <tbody>\n",
       "  </tbody>\n",
       "</table>\n",
       "</div>"
      ],
      "text/plain": [
       "         Unnamed: 0                   name                       artists  \\\n",
       "0                 0                Testify  ['Rage Against The Machine']   \n",
       "1                 1        Guerrilla Radio  ['Rage Against The Machine']   \n",
       "2                 2       Calm Like a Bomb  ['Rage Against The Machine']   \n",
       "3                 3              Mic Check  ['Rage Against The Machine']   \n",
       "4                 4  Sleep Now In the Fire  ['Rage Against The Machine']   \n",
       "...             ...                    ...                           ...   \n",
       "1204020     1204020         Gospel of Juke                   ['FVLCRVM']   \n",
       "1204021     1204021          Prism Visions                   ['FVLCRVM']   \n",
       "1204022     1204022              Tokyo 360                   ['FVLCRVM']   \n",
       "1204023     1204023                 Yummy!                   ['FVLCRVM']   \n",
       "1204024     1204024   That's The Way It Is                   ['FVLCRVM']   \n",
       "\n",
       "         energy  \n",
       "0         0.978  \n",
       "1         0.957  \n",
       "2         0.970  \n",
       "3         0.967  \n",
       "4         0.929  \n",
       "...         ...  \n",
       "1204020   0.966  \n",
       "1204021   0.701  \n",
       "1204022   0.796  \n",
       "1204023   0.856  \n",
       "1204024   0.708  \n",
       "\n",
       "[1204025 rows x 4 columns]"
      ]
     },
     "execution_count": 10,
     "metadata": {},
<<<<<<< HEAD
     "execution_count": 107
=======
     "output_type": "execute_result"
>>>>>>> a9e42091759023c036c1532723d81839e687edf2
    }
   ],
   "source": [
    "df = pd.read_csv(\"../data/tracks_edited.csv\")\n",
    "df"
   ]
  },
  {
   "cell_type": "code",
<<<<<<< HEAD
   "execution_count": 108,
=======
   "execution_count": 11,
   "metadata": {},
   "outputs": [],
>>>>>>> a9e42091759023c036c1532723d81839e687edf2
   "source": [
    "df_morethantwo = df[df[\"artists\"].str.contains(\",\")]"
   ]
  },
  {
   "cell_type": "code",
<<<<<<< HEAD
   "execution_count": 109,
=======
   "execution_count": 12,
   "metadata": {},
   "outputs": [],
>>>>>>> a9e42091759023c036c1532723d81839e687edf2
   "source": [
    "df_twoartist = df_morethantwo[df_morethantwo[\"artists\"].str.count(\",\") == 1]"
   ]
  },
  {
   "cell_type": "code",
<<<<<<< HEAD
   "execution_count": 110,
   "source": [
    "df_twoartist = df_twoartist.reset_index()\n",
    "df_twoartist = df_twoartist.iloc[:, 1:4]\n",
    "df_twoartist\n"
   ],
=======
   "execution_count": 13,
   "metadata": {},
>>>>>>> a9e42091759023c036c1532723d81839e687edf2
   "outputs": [
    {
     "data": {
<<<<<<< HEAD
      "text/plain": [
       "Empty DataFrame\n",
       "Columns: [name, artists, energy]\n",
       "Index: []"
      ],
=======
>>>>>>> a9e42091759023c036c1532723d81839e687edf2
      "text/html": [
       "<div>\n",
       "<style scoped>\n",
       "    .dataframe tbody tr th:only-of-type {\n",
       "        vertical-align: middle;\n",
       "    }\n",
       "\n",
       "    .dataframe tbody tr th {\n",
       "        vertical-align: top;\n",
       "    }\n",
       "\n",
       "    .dataframe thead th {\n",
       "        text-align: right;\n",
       "    }\n",
       "</style>\n",
       "<table border=\"1\" class=\"dataframe\">\n",
       "  <thead>\n",
       "    <tr style=\"text-align: right;\">\n",
       "      <th></th>\n",
       "      <th>name</th>\n",
       "      <th>artists</th>\n",
       "      <th>energy</th>\n",
       "    </tr>\n",
       "  </thead>\n",
       "  <tbody>\n",
       "  </tbody>\n",
       "</table>\n",
       "</div>"
      ],
      "text/plain": [
       "                                                     name  \\\n",
       "0                           Disillusion - Blue States Mix   \n",
       "1                           Disillusion - Black Lodge Mix   \n",
       "2                                        Don't You Think?   \n",
       "3       Piano Sonata No. 2 in B-Flat Minor, Op. 35 \"Fu...   \n",
       "4       Piano Sonata No. 2 in B-Flat Minor, Op. 35 \"Fu...   \n",
       "...                                                   ...   \n",
       "147566                                 LA NOCHE DE ANOCHE   \n",
       "147567                                             DÁKITI   \n",
       "147568                                         SORRY PAPI   \n",
       "147569                                             Hitman   \n",
       "147570       Cold - DeeTown Remix featuring Miss Eighty 6   \n",
       "\n",
       "                                                  artists  energy  \n",
       "0                      ['Badly Drawn Boy', 'Blue States']  0.7620  \n",
       "1                      ['Badly Drawn Boy', 'Black Lodge']  0.9050  \n",
       "2                     ['Natalie Imbruglia', 'Mark Plati']  0.8760  \n",
       "3                ['Frédéric Chopin', 'Vladimir Horowitz']  0.1680  \n",
       "4                ['Frédéric Chopin', 'Vladimir Horowitz']  0.0381  \n",
       "...                                                   ...     ...  \n",
       "147566                           ['Bad Bunny', 'ROSALÍA']  0.6180  \n",
       "147567                       ['Bad Bunny', 'Jhay Cortez']  0.5730  \n",
       "147568                              ['Bad Bunny', 'ABRA']  0.5610  \n",
       "147569                           ['Kelly Rowland', 'NFL']  0.8770  \n",
       "147570  ['Crossfade', 'Ali \\x93Dee\\x94 Theodore for De...  0.8290  \n",
       "\n",
       "[147571 rows x 3 columns]"
      ]
     },
     "execution_count": 13,
     "metadata": {},
<<<<<<< HEAD
     "execution_count": 110
=======
     "output_type": "execute_result"
>>>>>>> a9e42091759023c036c1532723d81839e687edf2
    }
   ],
   "source": [
    "df_twoartist = df_twoartist.reset_index()\n",
    "df_twoartist = df_twoartist.iloc[:, 2:]\n",
    "df_twoartist\n"
   ]
  },
  {
   "cell_type": "code",
<<<<<<< HEAD
   "execution_count": 111,
=======
   "execution_count": 14,
   "metadata": {},
   "outputs": [],
>>>>>>> a9e42091759023c036c1532723d81839e687edf2
   "source": [
    "df_twoartist[\"name\"] = df_twoartist[\"name\"].str.replace(\"\\\"\", \"*\")\n",
    "df_twoartist[\"name\"] = df_twoartist[\"name\"].str.replace(\"”\", \"*\")\n",
    "df_twoartist[\"name\"] = df_twoartist[\"name\"].str.replace(\",\", \"\")\n",
    "df_twoartist[\"artists\"] = df_twoartist[\"artists\"].str.replace(\"”\", \"*\")\n",
    "df_twoartist[\"artists\"] = df_twoartist[\"artists\"].str.replace(\"\\\"\", \"'\")\n",
    "for index,row in df_twoartist.iterrows():\n",
    "    idx = row[\"artists\"].find(\",\") - 1\n",
    "    if (row[\"artists\"][idx] != \"'\"):\n",
    "        row[\"artists\"] = row[\"artists\"].replace(\",\", \"\")\n",
    "        df_twoartist.loc[index, \"artists\"] = row[\"artists\"] \n",
    "\n"
   ]
  },
  {
   "cell_type": "code",
<<<<<<< HEAD
   "execution_count": 112,
   "source": [
    "\n",
    "df_twoartist[df_twoartist[\"artists\"].str.contains(\"Hank\")]\n",
    "len(df_twoartist)"
   ],
=======
   "execution_count": 15,
   "metadata": {},
>>>>>>> a9e42091759023c036c1532723d81839e687edf2
   "outputs": [
    {
     "data": {
<<<<<<< HEAD
      "text/plain": [
       "0"
=======
      "text/html": [
       "<div>\n",
       "<style scoped>\n",
       "    .dataframe tbody tr th:only-of-type {\n",
       "        vertical-align: middle;\n",
       "    }\n",
       "\n",
       "    .dataframe tbody tr th {\n",
       "        vertical-align: top;\n",
       "    }\n",
       "\n",
       "    .dataframe thead th {\n",
       "        text-align: right;\n",
       "    }\n",
       "</style>\n",
       "<table border=\"1\" class=\"dataframe\">\n",
       "  <thead>\n",
       "    <tr style=\"text-align: right;\">\n",
       "      <th></th>\n",
       "      <th>name</th>\n",
       "      <th>artists</th>\n",
       "      <th>energy</th>\n",
       "    </tr>\n",
       "  </thead>\n",
       "  <tbody>\n",
       "    <tr>\n",
       "      <th>235</th>\n",
       "      <td>Don Juan D'Bubba</td>\n",
       "      <td>['Hank Williams Jr.']</td>\n",
       "      <td>0.760</td>\n",
       "    </tr>\n",
       "    <tr>\n",
       "      <th>236</th>\n",
       "      <td>Houston We Have A Problem</td>\n",
       "      <td>['Hank Williams Jr.']</td>\n",
       "      <td>0.393</td>\n",
       "    </tr>\n",
       "    <tr>\n",
       "      <th>237</th>\n",
       "      <td>It Makes A Good Story</td>\n",
       "      <td>['Hank Williams Jr.']</td>\n",
       "      <td>0.596</td>\n",
       "    </tr>\n",
       "    <tr>\n",
       "      <th>238</th>\n",
       "      <td>Maybe I'm The One Who's Crazy</td>\n",
       "      <td>['Hank Williams Jr.']</td>\n",
       "      <td>0.589</td>\n",
       "    </tr>\n",
       "    <tr>\n",
       "      <th>239</th>\n",
       "      <td>Honky Tonked All To Hell</td>\n",
       "      <td>['Hank Williams Jr.']</td>\n",
       "      <td>0.657</td>\n",
       "    </tr>\n",
       "    <tr>\n",
       "      <th>...</th>\n",
       "      <td>...</td>\n",
       "      <td>...</td>\n",
       "      <td>...</td>\n",
       "    </tr>\n",
       "    <tr>\n",
       "      <th>102934</th>\n",
       "      <td>I'm All Smiles</td>\n",
       "      <td>['Hank Jones', 'Tommy Flanagan']</td>\n",
       "      <td>0.116</td>\n",
       "    </tr>\n",
       "    <tr>\n",
       "      <th>102935</th>\n",
       "      <td>Rockin in Rhythm</td>\n",
       "      <td>['Hank Jones', 'Tommy Flanagan']</td>\n",
       "      <td>0.285</td>\n",
       "    </tr>\n",
       "    <tr>\n",
       "      <th>102936</th>\n",
       "      <td>Con Alma</td>\n",
       "      <td>['Hank Jones', 'Tommy Flanagan']</td>\n",
       "      <td>0.156</td>\n",
       "    </tr>\n",
       "    <tr>\n",
       "      <th>108938</th>\n",
       "      <td>America Will Survive</td>\n",
       "      <td>['Hank Williams Jr.']</td>\n",
       "      <td>0.544</td>\n",
       "    </tr>\n",
       "    <tr>\n",
       "      <th>111380</th>\n",
       "      <td>Kansas City</td>\n",
       "      <td>['Hank Ballard', 'The Midnighters']</td>\n",
       "      <td>0.856</td>\n",
       "    </tr>\n",
       "  </tbody>\n",
       "</table>\n",
       "<p>192 rows × 3 columns</p>\n",
       "</div>"
      ],
      "text/plain": [
       "                                 name                              artists  \\\n",
       "235                  Don Juan D'Bubba                ['Hank Williams Jr.']   \n",
       "236         Houston We Have A Problem                ['Hank Williams Jr.']   \n",
       "237             It Makes A Good Story                ['Hank Williams Jr.']   \n",
       "238     Maybe I'm The One Who's Crazy                ['Hank Williams Jr.']   \n",
       "239          Honky Tonked All To Hell                ['Hank Williams Jr.']   \n",
       "...                               ...                                  ...   \n",
       "102934                 I'm All Smiles     ['Hank Jones', 'Tommy Flanagan']   \n",
       "102935               Rockin in Rhythm     ['Hank Jones', 'Tommy Flanagan']   \n",
       "102936                       Con Alma     ['Hank Jones', 'Tommy Flanagan']   \n",
       "108938           America Will Survive                ['Hank Williams Jr.']   \n",
       "111380                    Kansas City  ['Hank Ballard', 'The Midnighters']   \n",
       "\n",
       "        energy  \n",
       "235      0.760  \n",
       "236      0.393  \n",
       "237      0.596  \n",
       "238      0.589  \n",
       "239      0.657  \n",
       "...        ...  \n",
       "102934   0.116  \n",
       "102935   0.285  \n",
       "102936   0.156  \n",
       "108938   0.544  \n",
       "111380   0.856  \n",
       "\n",
       "[192 rows x 3 columns]"
>>>>>>> a9e42091759023c036c1532723d81839e687edf2
      ]
     },
     "execution_count": 15,
     "metadata": {},
<<<<<<< HEAD
     "execution_count": 112
=======
     "output_type": "execute_result"
>>>>>>> a9e42091759023c036c1532723d81839e687edf2
    }
   ],
   "source": [
    "\n",
    "df_twoartist[df_twoartist[\"artists\"].str.contains(\"Hank\")]"
   ]
  },
  {
   "cell_type": "code",
<<<<<<< HEAD
   "execution_count": 113,
   "source": [
    "import csv\n",
    "df_twoartist.to_csv(\"tracks_twoartists.csv\", quoting=csv.QUOTE_NONNUMERIC, header=False, index = False)"
   ],
=======
   "execution_count": 16,
   "metadata": {},
   "outputs": [],
   "source": [
    "import csv\n",
    "df_twoartist.to_csv(\"tracks_twoartists.txt\", quoting=csv.QUOTE_NONNUMERIC, header=False, index = False)"
   ]
  },
  {
   "cell_type": "code",
   "execution_count": null,
   "metadata": {},
>>>>>>> a9e42091759023c036c1532723d81839e687edf2
   "outputs": [],
   "source": []
  },
  {
   "cell_type": "code",
   "execution_count": null,
   "metadata": {},
   "outputs": [],
   "source": []
  }
 ],
 "metadata": {
  "kernelspec": {
   "display_name": "Python 3.8.5 ('base')",
   "language": "python",
   "name": "python3"
  },
  "language_info": {
   "codemirror_mode": {
    "name": "ipython",
    "version": 3
   },
   "file_extension": ".py",
   "mimetype": "text/x-python",
   "name": "python",
   "nbconvert_exporter": "python",
   "pygments_lexer": "ipython3",
   "version": "3.8.5"
  },
  "orig_nbformat": 4,
  "vscode": {
   "interpreter": {
    "hash": "6ffa1b5e46dc11ea08963e1cd366633ff2f920f8ee7669d02119012e847c3805"
   }
  }
 },
 "nbformat": 4,
 "nbformat_minor": 2
}
