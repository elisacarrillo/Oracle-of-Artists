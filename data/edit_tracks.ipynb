{
 "cells": [
  {
   "cell_type": "code",
   "execution_count": 106,
   "source": [
    "import pandas as pd"
   ],
   "outputs": [],
   "metadata": {}
  },
  {
   "cell_type": "code",
   "execution_count": 107,
   "source": [
    "df = pd.read_csv(\"../data/tracks_features.csv\")\n",
    "df = df[(df.year >= 2010)]\n",
    "df = df[df.explicit == False]\n",
    "df = df[[\"name\", \"artists\", \"energy\", \"year\"]]\n",
    "df"
   ],
   "outputs": [
    {
     "output_type": "execute_result",
     "data": {
      "text/plain": [
       "Empty DataFrame\n",
       "Columns: [name, artists, energy, year]\n",
       "Index: []"
      ],
      "text/html": [
       "<div>\n",
       "<style scoped>\n",
       "    .dataframe tbody tr th:only-of-type {\n",
       "        vertical-align: middle;\n",
       "    }\n",
       "\n",
       "    .dataframe tbody tr th {\n",
       "        vertical-align: top;\n",
       "    }\n",
       "\n",
       "    .dataframe thead th {\n",
       "        text-align: right;\n",
       "    }\n",
       "</style>\n",
       "<table border=\"1\" class=\"dataframe\">\n",
       "  <thead>\n",
       "    <tr style=\"text-align: right;\">\n",
       "      <th></th>\n",
       "      <th>name</th>\n",
       "      <th>artists</th>\n",
       "      <th>energy</th>\n",
       "      <th>year</th>\n",
       "    </tr>\n",
       "  </thead>\n",
       "  <tbody>\n",
       "  </tbody>\n",
       "</table>\n",
       "</div>"
      ]
     },
     "metadata": {},
     "execution_count": 107
    }
   ],
   "metadata": {}
  },
  {
   "cell_type": "code",
   "execution_count": 108,
   "source": [
    "df_morethantwo = df[df[\"artists\"].str.contains(\",\")]"
   ],
   "outputs": [],
   "metadata": {}
  },
  {
   "cell_type": "code",
   "execution_count": 109,
   "source": [
    "df_twoartist = df_morethantwo[df_morethantwo[\"artists\"].str.count(\",\") == 1]"
   ],
   "outputs": [],
   "metadata": {}
  },
  {
   "cell_type": "code",
   "execution_count": 110,
   "source": [
    "df_twoartist = df_twoartist.reset_index()\n",
    "df_twoartist = df_twoartist.iloc[:, 1:4]\n",
    "df_twoartist\n"
   ],
   "outputs": [
    {
     "output_type": "execute_result",
     "data": {
      "text/plain": [
       "Empty DataFrame\n",
       "Columns: [name, artists, energy]\n",
       "Index: []"
      ],
      "text/html": [
       "<div>\n",
       "<style scoped>\n",
       "    .dataframe tbody tr th:only-of-type {\n",
       "        vertical-align: middle;\n",
       "    }\n",
       "\n",
       "    .dataframe tbody tr th {\n",
       "        vertical-align: top;\n",
       "    }\n",
       "\n",
       "    .dataframe thead th {\n",
       "        text-align: right;\n",
       "    }\n",
       "</style>\n",
       "<table border=\"1\" class=\"dataframe\">\n",
       "  <thead>\n",
       "    <tr style=\"text-align: right;\">\n",
       "      <th></th>\n",
       "      <th>name</th>\n",
       "      <th>artists</th>\n",
       "      <th>energy</th>\n",
       "    </tr>\n",
       "  </thead>\n",
       "  <tbody>\n",
       "  </tbody>\n",
       "</table>\n",
       "</div>"
      ]
     },
     "metadata": {},
     "execution_count": 110
    }
   ],
   "metadata": {}
  },
  {
   "cell_type": "code",
   "execution_count": 111,
   "source": [
    "df_twoartist[\"name\"] = df_twoartist[\"name\"].str.replace(\"\\\"\", \"*\")\n",
    "df_twoartist[\"name\"] = df_twoartist[\"name\"].str.replace(\"”\", \"*\")\n",
    "df_twoartist[\"name\"] = df_twoartist[\"name\"].str.replace(\",\", \"\")\n",
    "df_twoartist[\"artists\"] = df_twoartist[\"artists\"].str.replace(\"”\", \"*\")\n",
    "df_twoartist[\"artists\"] = df_twoartist[\"artists\"].str.replace(\"\\\"\", \"'\")\n",
    "for index,row in df_twoartist.iterrows():\n",
    "    idx = row[\"artists\"].find(\",\") - 1\n",
    "    if (row[\"artists\"][idx] != \"'\"):\n",
    "        row[\"artists\"] = row[\"artists\"].replace(\",\", \"\")\n",
    "        df_twoartist.loc[index, \"artists\"] = row[\"artists\"] \n",
    "\n"
   ],
   "outputs": [],
   "metadata": {}
  },
  {
   "cell_type": "code",
   "execution_count": 112,
   "source": [
    "\n",
    "df_twoartist[df_twoartist[\"artists\"].str.contains(\"Hank\")]\n",
    "len(df_twoartist)"
   ],
   "outputs": [
    {
     "output_type": "execute_result",
     "data": {
      "text/plain": [
       "0"
      ]
     },
     "metadata": {},
     "execution_count": 112
    }
   ],
   "metadata": {}
  },
  {
   "cell_type": "code",
   "execution_count": 113,
   "source": [
    "import csv\n",
    "df_twoartist.to_csv(\"tracks_twoartists.csv\", quoting=csv.QUOTE_NONNUMERIC, header=False, index = False)"
   ],
   "outputs": [],
   "metadata": {}
  },
  {
   "cell_type": "code",
   "execution_count": null,
   "source": [],
   "outputs": [],
   "metadata": {}
  }
 ],
 "metadata": {
  "kernelspec": {
   "name": "python3",
   "display_name": "Python 3.8.8 64-bit ('base': conda)"
  },
  "language_info": {
   "codemirror_mode": {
    "name": "ipython",
    "version": 3
   },
   "file_extension": ".py",
   "mimetype": "text/x-python",
   "name": "python",
   "nbconvert_exporter": "python",
   "pygments_lexer": "ipython3",
   "version": "3.8.8"
  },
  "orig_nbformat": 4,
  "vscode": {
   "interpreter": {
    "hash": "6ffa1b5e46dc11ea08963e1cd366633ff2f920f8ee7669d02119012e847c3805"
   }
  },
  "interpreter": {
   "hash": "dca0ade3e726a953b501b15e8e990130d2b7799f14cfd9f4271676035ebe5511"
  }
 },
 "nbformat": 4,
 "nbformat_minor": 2
}